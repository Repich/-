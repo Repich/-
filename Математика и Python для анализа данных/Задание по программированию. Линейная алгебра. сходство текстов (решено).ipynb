{
 "cells": [
  {
   "cell_type": "code",
   "execution_count": 2,
   "metadata": {
    "collapsed": false,
    "deletable": true,
    "editable": true
   },
   "outputs": [
    {
     "name": "stdout",
     "output_type": "stream",
     "text": [
      "0___In comparison to dogs, cats have not undergone major changes during the domestication process.\n",
      "\n",
      "1___As cat simply catenates streams of bytes, it can be also used to concatenate binary files, where it will just concatenate sequence of bytes.\n",
      "\n",
      "2___A common interactive use of cat for a single file is to output the content of a file to standard output.\n",
      "\n",
      "3___Cats can hear sounds too faint or too high in frequency for human ears, such as those made by mice and other small animals.\n",
      "\n",
      "4___In one, people deliberately tamed cats in a process of artificial selection, as they were useful predators of vermin.\n",
      "\n",
      "5___The domesticated cat and its closest wild ancestor are both diploid organisms that possess 38 chromosomes and roughly 20,000 genes.\n",
      "\n",
      "6___Domestic cats are similar in size to the other members of the genus Felis, typically weighing between 4 and 5 kg (8.8 and 11.0 lb).\n",
      "\n",
      "7___However, if the output is piped or redirected, cat is unnecessary.\n",
      "\n",
      "8___cat with one named file is safer where human error is a concern - one wrong use of the default redirection symbol \">\" instead of \"<\" (often adjacent on keyboards) may permanently delete the file you were just needing to read.\n",
      "\n",
      "9___In terms of legibility, a sequence of commands starting with cat and connected by pipes has a clear left-to-right flow of information.\n",
      "\n",
      "10___Cat command is one of the basic commands that you learned when you started in the Unix / Linux world.\n",
      "\n",
      "11___Using cat command, the lines received from stdin can be redirected to a new file using redirection symbols.\n",
      "\n",
      "12___When you type simply cat command without any arguments, it just receives the stdin content and displays it in the stdout.\n",
      "\n",
      "13___Leopard was released on October 26, 2007 as the successor of Tiger (version 10.4), and is available in two editions.\n",
      "\n",
      "14___According to Apple, Leopard contains over 300 changes and enhancements over its predecessor, Mac OS X Tiger.\n",
      "\n",
      "15___As of Mid 2010, some Apple computers have firmware factory installed which will no longer allow installation of Mac OS X Leopard.\n",
      "\n",
      "16___Since Apple moved to using Intel processors in their computers, the OSx86 community has developed and now also allows Mac OS X Tiger and later releases to be installed on non-Apple x86-based computers.\n",
      "\n",
      "17___OS X Mountain Lion was released on July 25, 2012 for purchase and download through Apple's Mac App Store, as part of a switch to releasing OS X versions online and every year.\n",
      "\n",
      "18___Apple has released a small patch for the three most recent versions of Safari running on OS X Yosemite, Mavericks, and Mountain Lion.\n",
      "\n",
      "19___The Mountain Lion release marks the second time Apple has offered an incremental upgrade, rather than releasing a new cat entirely.\n",
      "\n",
      "20___Mac OS X Mountain Lion installs in place, so you won't need to create a separate disk or run the installation off an external drive.\n",
      "\n",
      "21___The fifth major update to Mac OS X, Leopard, contains such a mountain of features - more than 300 by Apple's count.\n",
      "0___0.0\n",
      "1___0.952754440874\n",
      "2___0.864473814564\n",
      "3___0.895171516328\n",
      "4___0.77708871497\n",
      "5___0.940238569533\n",
      "6___0.732738758088\n",
      "7___0.925875068334\n",
      "8___0.884272487528\n",
      "9___0.905508881748\n",
      "10___0.832816536227\n",
      "11___0.880477139067\n",
      "12___0.839643254853\n",
      "13___0.87035925529\n",
      "14___0.87401184233\n",
      "15___0.944272178742\n",
      "16___0.840636185422\n",
      "17___0.956644501524\n",
      "18___0.944272178742\n",
      "19___0.888544357485\n",
      "20___0.842757274492\n",
      "21___0.825036446944\n"
     ]
    }
   ],
   "source": [
    "import re\n",
    "import numpy as np\n",
    "import operator\n",
    "from scipy import spatial\n",
    "f = open('sentences.txt')\n",
    "#Количество строк в тексте. Нужно для создания итоговой матрицы\n",
    "len_string = len(f.readlines())\n",
    "#Переходим в начало файла.\n",
    "f.seek(0)\n",
    "text = f.read()\n",
    "text = text.lower()\n",
    "l = re.split('[^a-z]', text)\n",
    "#Удаляем \n",
    "l = filter(lambda i: i != '', l)\n",
    "num_word = 0;\n",
    "d = {}\n",
    "for x in l:\n",
    "    if x not in d:\n",
    "        d[x] = num_word\n",
    "        num_word += 1\n",
    "len_column = max(d.items(), key=operator.itemgetter(1))[1]\n",
    "np_final = np.zeros((len_string, len_column+1))\n",
    "f.seek(0)\n",
    "x = 0\n",
    "m = []\n",
    "for line in f.readlines():\n",
    "    print(str(x)+'___'+line)\n",
    "    line= line.lower()\n",
    "    m = re.split('[^a-z]', line)\n",
    "    m = filter(lambda j: j != '', m)\n",
    "    for y in m:\n",
    "        np_final[x,d[y]] += 1\n",
    "    x += 1\n",
    "np.savetxt('np_final.csv', np_final)\n",
    "x = 0\n",
    "while x<len_string:\n",
    "    print (str(x)+'___'+str(spatial.distance.cosine(np_final[0], np_final[x])))\n",
    "    x += 1\n",
    "    \n",
    "\n"
   ]
  },
  {
   "cell_type": "code",
   "execution_count": null,
   "metadata": {
    "collapsed": true,
    "deletable": true,
    "editable": true
   },
   "outputs": [],
   "source": []
  },
  {
   "cell_type": "code",
   "execution_count": null,
   "metadata": {
    "collapsed": true,
    "deletable": true,
    "editable": true
   },
   "outputs": [],
   "source": []
  },
  {
   "cell_type": "code",
   "execution_count": null,
   "metadata": {
    "collapsed": true,
    "deletable": true,
    "editable": true
   },
   "outputs": [],
   "source": []
  }
 ],
 "metadata": {
  "anaconda-cloud": {},
  "kernelspec": {
   "display_name": "Python [default]",
   "language": "python",
   "name": "python3"
  },
  "language_info": {
   "codemirror_mode": {
    "name": "ipython",
    "version": 3
   },
   "file_extension": ".py",
   "mimetype": "text/x-python",
   "name": "python",
   "nbconvert_exporter": "python",
   "pygments_lexer": "ipython3",
   "version": "3.6.1"
  }
 },
 "nbformat": 4,
 "nbformat_minor": 0
}
