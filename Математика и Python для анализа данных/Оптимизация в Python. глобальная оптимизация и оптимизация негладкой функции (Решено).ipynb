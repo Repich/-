{
 "cells": [
  {
   "cell_type": "code",
   "execution_count": 10,
   "metadata": {
    "collapsed": false,
    "deletable": true,
    "editable": true
   },
   "outputs": [
    {
     "name": "stdout",
     "output_type": "stream",
     "text": [
      "******************************************\n",
      "*************З А Д А Ч А   1**************\n",
      "******************************************\n",
      "      fun: -11.898894665981285\n",
      " hess_inv: array([[ 1.67932484]])\n",
      "      jac: array([  2.38418579e-07])\n",
      "  message: 'Optimization terminated successfully.'\n",
      "     nfev: 21\n",
      "      nit: 6\n",
      "     njev: 7\n",
      "   status: 0\n",
      "  success: True\n",
      "        x: array([ 25.88019339])\n",
      "[ 25.88019339]\n",
      "-11.898894665981285\n"
     ]
    },
    {
     "data": {
      "image/png": "[encoded data removed]",
      "text/plain": [
       "<matplotlib.figure.Figure at 0x44edf90>"
      ]
     },
     "metadata": {},
     "output_type": "display_data"
    },
    {
     "name": "stdout",
     "output_type": "stream",
     "text": [
      "******************************************\n",
      "*************З А Д А Ч А   2**************\n",
      "******************************************\n",
      "     fun: array([-11.89889467])\n",
      "     jac: array([ -1.77635684e-07])\n",
      " message: 'Optimization terminated successfully.'\n",
      "    nfev: 98\n",
      "     nit: 5\n",
      " success: True\n",
      "       x: array([ 25.88019257])\n",
      "[ 25.88019257]\n",
      "[-11.89889467]\n"
     ]
    },
    {
     "data": {
      "image/png": "[encoded data removed]",
      "text/plain": [
       "<matplotlib.figure.Figure at 0xc237e50>"
      ]
     },
     "metadata": {},
     "output_type": "display_data"
    },
    {
     "name": "stdout",
     "output_type": "stream",
     "text": [
      "******************************************\n",
      "*************З А Д А Ч А   3**************\n",
      "******************************************\n",
      "[ 30.]\n",
      "[-5]\n",
      "[ 25.62258804]\n",
      "-11.0\n"
     ]
    },
    {
     "data": {
      "image/png": "[encoded data removed]",
      "text/plain": [
       "<matplotlib.figure.Figure at 0xc23d390>"
      ]
     },
     "metadata": {},
     "output_type": "display_data"
    }
   ],
   "source": [
    "import math\n",
    "from matplotlib import pylab as plt\n",
    "import numpy as np\n",
    "from scipy import linalg\n",
    "from scipy import optimize\n",
    "\n",
    "def f(x):\n",
    "    return np.sin(x/5)*np.exp(x/10)+5*np.exp(-x/2)\n",
    "\n",
    "def h(x):\n",
    "    return int(np.sin(x/5)*np.exp(x/10)+5*np.exp(-x/2))\n",
    "\n",
    "print(\"******************************************\")\n",
    "print(\"*************З А Д А Ч А   1**************\")\n",
    "print(\"******************************************\")\n",
    "\n",
    "y = lambda x: np.sin(x/5)*np.exp(x/10)+5*np.exp(-x/2)\n",
    "#Поиск локального минимума методом градиентного спуска.\n",
    "#Первый параметр - функция\n",
    "#Второй параметр - начальное приближение\n",
    "res = optimize.minimize(y,30)\n",
    "#Поиск локального минимума методом BFGS\n",
    "resBFGS = optimize.minimize(y,20, method='BFGS')\n",
    "print (res)\n",
    "print (res.x)\n",
    "print (res.fun)\n",
    "#График для проверки\n",
    "x = np.arange(1, 30, 0.001)\n",
    "y = np.sin(x/5)*np.exp(x/10)+5*np.exp(-x/2)\n",
    "plt.plot(x, y)\n",
    "plt.plot(resBFGS.x[0], resBFGS.fun,'o')\n",
    "plt.show()\n",
    "\n",
    "\n",
    "print(\"******************************************\")\n",
    "print(\"*************З А Д А Ч А   2**************\")\n",
    "print(\"******************************************\")\n",
    "from scipy.optimize import differential_evolution\n",
    "#Поиск минимума методом дифференциальной эволюции\n",
    "#Интервал для поиска\n",
    "bound = [(1,30)]\n",
    "result = differential_evolution(f,bound)\n",
    "#Выводим результат на график для проверки\n",
    "plt.plot(result.x[0], result.fun,'o')\n",
    "print(result)\n",
    "print (result.x)\n",
    "print (result.fun)\n",
    "plt.show()\n",
    "\n",
    "print(\"******************************************\")\n",
    "print(\"*************З А Д А Ч А   3**************\")\n",
    "print(\"******************************************\")\n",
    "#Определяем функцию h(x) = int(f(x))\n",
    "h = lambda x: (np.sin(x/5)*np.exp(x/10)+5*np.exp(-x/2)).astype(int)\n",
    "#Поиск локального минимума методом BFGS\n",
    "resBFGS = optimize.minimize(h,30, method='BFGS')\n",
    "#print (resBFGS)\n",
    "print (resBFGS.x)\n",
    "print (resBFGS.fun)\n",
    "plt.plot(resBFGS.x[0], resBFGS.fun,'o')\n",
    "#Определяем функцию для графика\n",
    "z = (np.sin(x/5)*np.exp(x/10)+5*np.exp(-x/2)).astype(int)\n",
    "plt.plot(x, z)\n",
    "plt.plot(resBFGS.x[0], resBFGS.fun,'o')\n",
    "\n",
    "\n",
    "#Поиск минимума методом дифференциальной эволюции\n",
    "bound = [(1,30)]\n",
    "result = differential_evolution(h,bound)\n",
    "#print(result)\n",
    "print (result.x)\n",
    "print (result.fun)\n",
    "plt.plot(result.x[0], result.fun,'o')\n",
    "\n",
    "\n",
    "plt.show()\n"
   ]
  },
  {
   "cell_type": "code",
   "execution_count": null,
   "metadata": {
    "collapsed": true,
    "deletable": true,
    "editable": true
   },
   "outputs": [],
   "source": []
  }
 ],
 "metadata": {
  "anaconda-cloud": {},
  "kernelspec": {
   "display_name": "Python [conda root]",
   "language": "python",
   "name": "conda-root-py"
  },
  "language_info": {
   "codemirror_mode": {
    "name": "ipython",
    "version": 3
   },
   "file_extension": ".py",
   "mimetype": "text/x-python",
   "name": "python",
   "nbconvert_exporter": "python",
   "pygments_lexer": "ipython3",
   "version": "3.6.1"
  }
 },
 "nbformat": 4,
 "nbformat_minor": 0
}
